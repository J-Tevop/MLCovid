{
 "cells": [
  {
   "cell_type": "code",
   "execution_count": null,
   "id": "demonstrated-wheat",
   "metadata": {},
   "outputs": [],
   "source": [
    "import numpy as np\n",
    "import pandas as pd\n",
    "import matplotlib.pyplot as plt\n",
    "import math\n",
    "import os\n",
    "import sklearn\n",
    "\n",
    "os.chdir('D:')\n",
    "os.getcwd()\n",
    "\n",
    "plt.rcParams[\"figure.autolayout\"] = True\n",
    "\n",
    "def getHighestDate(data):\n",
    "    prevLoc = data['location'][0]\n",
    "    dropArr = []\n",
    "    for i in range(1, len(data['location'])):\n",
    "        if data['location'][i] == prevLoc:\n",
    "            dropArr.append(i-1)\n",
    "        prevLoc = data['location'][i]\n",
    "    newData = data.drop(dropArr).reset_index()\n",
    "    return(newData)\n",
    "\n",
    "def removeNanCat(data, cats):\n",
    "    dropArr = []\n",
    "    for i, row in enumerate(data[cats[0]]):\n",
    "        for cat in cats:\n",
    "            if type(data[cat][i]) != np.float64:\n",
    "                print(type(data[cat][i]))\n",
    "                dropArr.append(i)\n",
    "            if type(data[cat][i]) != str:\n",
    "                if math.isnan(data[cat][i]) or np.isfinite(data[cat][i]) == False:\n",
    "                    dropArr.append(i)\n",
    "    dropArr = list(set(dropArr))\n",
    "    return(data.drop(dropArr).reset_index())\n",
    "\n",
    "def plotMultiple(data, dataX, dataY, titles, lablesX, lablesY):\n",
    "    plt.rcParams[\"figure.figsize\"] = [20, 20]\n",
    "    fig, axs = plt.subplots(len(dataX))\n",
    "    for i, x in enumerate(dataX):\n",
    "        x = [0 if math.isinf(num) else num for num in np.log(data[x])]\n",
    "        y = [0 if math.isinf(num) else num for num in np.log(data[dataY[i]])]\n",
    "        axs[i].set_title(titles[i])\n",
    "        axs[i].scatter(x, y)\n",
    "        axs[i].set(xlabel=lablesX[i], ylabel=lablesY[i])\n",
    "    plt.show()\n",
    "\n",
    "def plotMultipleFitted(data, dataX, dataY, titles, lablesX, lablesY):\n",
    "    plt.rcParams[\"figure.figsize\"] = [20, 20]\n",
    "    fig, axs = plt.subplots(len(dataX))\n",
    "    for i, x in enumerate(dataX):\n",
    "        x = [0 if math.isinf(num) else num for num in np.log(data[x])]\n",
    "        y = [0 if math.isinf(num) else num for num in np.log(data[dataY[i]])]\n",
    "        m = np.polyfit(x, y, 1)\n",
    "        axs[i].set_title(titles[i])\n",
    "        axs[i].scatter(x, y)\n",
    "        axs[i].plot(x, [num*m[0]+m[1] for num in x])\n",
    "        axs[i].set(xlabel=lablesX[i], ylabel=lablesY[i])\n",
    "    plt.show()"
   ]
  },
  {
   "cell_type": "code",
   "execution_count": null,
   "id": "18dc9b91",
   "metadata": {},
   "outputs": [],
   "source": [
    "data = pd.read_csv('Case_PRB.csv')\n",
    "data = getHighestDate(data)\n",
    "data = removeNanCat(data, ['life_expectancy', 'human_development_index', 'total_cases_per_million', 'total_deaths_per_million', 'male_smokers', 'cardiovasc_death_rate'])\n",
    "\n",
    "plotMultiple(data, ['human_development_index', 'total_cases_per_million', 'male_smokers'], ['life_expectancy', 'total_deaths_per_million', 'cardiovasc_death_rate'], ['Figuur 1','Figuur 2','Figuur 3'],\n",
    "['Human development index', 'Total cases per million', 'Male smokers'], ['Life expectancy', 'Total deaths per million', 'Cardiovascular death rate'])"
   ]
  },
  {
   "cell_type": "code",
   "execution_count": null,
   "id": "a5c8ad27",
   "metadata": {},
   "outputs": [],
   "source": [
    "plotMultipleFitted(data, ['human_development_index', 'total_cases_per_million', 'male_smokers'], ['life_expectancy', 'total_deaths_per_million', 'cardiovasc_death_rate'], ['Figuur 1','Figuur 2','Figuur 3'],\n",
    "['Human development index', 'Total cases per million', 'Male smokers'], ['Life expectancy', 'Total deaths per million', 'Cardiovascular death rate'])"
   ]
  },
  {
   "cell_type": "markdown",
   "id": "d1392a1b",
   "metadata": {},
   "source": []
  }
 ],
 "metadata": {
  "kernelspec": {
   "display_name": "Python 3 (ipykernel)",
   "language": "python",
   "name": "python3"
  },
  "language_info": {
   "codemirror_mode": {
    "name": "ipython",
    "version": 3
   },
   "file_extension": ".py",
   "mimetype": "text/x-python",
   "name": "python",
   "nbconvert_exporter": "python",
   "pygments_lexer": "ipython3",
   "version": "3.9.7"
  }
 },
 "nbformat": 4,
 "nbformat_minor": 5
}
