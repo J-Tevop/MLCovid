{
 "cells": [
  {
   "cell_type": "code",
   "execution_count": 167,
   "id": "demonstrated-wheat",
   "metadata": {},
   "outputs": [],
   "source": [
    "import numpy as np\n",
    "import pandas as pd\n",
    "import matplotlib.pyplot as plt\n",
    "import os\n",
    "\n",
    "os.chdir('C:')\n",
    "os.getcwd()\n",
    "\n",
    "plt.rcParams[\"figure.figsize\"] = [7.50, 3.50]\n",
    "plt.rcParams[\"figure.autolayout\"] = True\n",
    "\n"
   ]
  },
  {
   "cell_type": "code",
   "execution_count": 168,
   "id": "18dc9b91",
   "metadata": {},
   "outputs": [
    {
     "name": "stdout",
     "output_type": "stream",
     "text": [
      "             date  total_cases  new_cases\n",
      "0      2020-03-13          2.0        2.0\n",
      "1      2020-03-19          NaN        NaN\n",
      "2      2020-03-20          4.0        2.0\n",
      "3      2020-03-21          NaN        NaN\n",
      "4      2020-03-22          NaN        NaN\n",
      "...           ...          ...        ...\n",
      "49663  2020-10-08        696.0        NaN\n",
      "49664  2020-10-09        696.0        NaN\n",
      "49665  2020-10-10        696.0        NaN\n",
      "49666  2020-10-11        696.0        NaN\n",
      "49667  2020-10-12        696.0        NaN\n",
      "\n",
      "[49668 rows x 3 columns]\n"
     ]
    },
    {
     "data": {
      "image/png": "[encoded data removed]",
      "text/plain": [
       "<Figure size 540x252 with 1 Axes>"
      ]
     },
     "metadata": {
      "needs_background": "light"
     },
     "output_type": "display_data"
    }
   ],
   "source": [
    "df = pd.read_csv('Case_PRB.csv', usecols= ['date', 'total_cases', 'new_cases'])\n",
    "#names=headers, dtype={'location:': 'string', 'date': 'string', 'total_cases': object}, low_memory=False\n",
    "#alldata.set_index(['total_cases').plot()\n",
    "print(df)\n",
    "\n",
    "\n",
    "df.plot(x = 'date', y = 'total_cases', kind = 'line')\n",
    "plt.show()"
   ]
  }
 ],
 "metadata": {
  "kernelspec": {
   "display_name": "Python 3 (ipykernel)",
   "language": "python",
   "name": "python3"
  },
  "language_info": {
   "codemirror_mode": {
    "name": "ipython",
    "version": 3
   },
   "file_extension": ".py",
   "mimetype": "text/x-python",
   "name": "python",
   "nbconvert_exporter": "python",
   "pygments_lexer": "ipython3",
   "version": "3.8.5"
  }
 },
 "nbformat": 4,
 "nbformat_minor": 5
}
